{
 "cells": [
  {
   "cell_type": "code",
   "execution_count": 12,
   "metadata": {},
   "outputs": [],
   "source": [
    "from pydub import AudioSegment\n",
    "import os"
   ]
  },
  {
   "cell_type": "code",
   "execution_count": 21,
   "metadata": {},
   "outputs": [],
   "source": [
    "# Rutas de las carpetas de entrada y salida\n",
    "carpeta_entrada = r'C:\\Base User Documents\\UdeA\\Electrónica\\Semestre 2\\PDS\\PDS-UdeA\\Video Un_2\\Test\\Stereo'\n",
    "carpeta_salida = r'C:\\Base User Documents\\UdeA\\Electrónica\\Semestre 2\\PDS\\PDS-UdeA\\Video Un_2\\Test\\Mono'"
   ]
  },
  {
   "cell_type": "code",
   "execution_count": 23,
   "metadata": {},
   "outputs": [],
   "source": [
    "# Verificar si la carpeta de salida existe, de lo contrario, créala\n",
    "if not os.path.exists(carpeta_salida):\n",
    "    os.makedirs(carpeta_salida)"
   ]
  },
  {
   "cell_type": "code",
   "execution_count": 22,
   "metadata": {},
   "outputs": [
    {
     "name": "stdout",
     "output_type": "stream",
     "text": [
      "Archivos convertidos y guardados en la carpeta de salida.\n"
     ]
    }
   ],
   "source": [
    "# Lista de archivos en la carpeta de entrada\n",
    "archivos_entrada = os.listdir(carpeta_entrada)\n",
    "\n",
    "# Procesar cada archivo en la carpeta de entrada\n",
    "for archivo in archivos_entrada:\n",
    "    if archivo.endswith('.wav'):\n",
    "        # Cargar el archivo estéreo\n",
    "        archivo_estereo = AudioSegment.from_wav(os.path.join(carpeta_entrada, archivo))\n",
    "        \n",
    "        # Convertir a mono\n",
    "        archivo_mono = archivo_estereo.set_channels(1)\n",
    "        \n",
    "        # Guardar el archivo mono en la carpeta de salida\n",
    "        nombre_archivo_salida = os.path.splitext(archivo)[0] + '_mono.wav'\n",
    "        archivo_mono.export(os.path.join(carpeta_salida, nombre_archivo_salida), format='wav')\n",
    "\n",
    "print(\"Archivos convertidos y guardados en la carpeta de salida.\")"
   ]
  }
 ],
 "metadata": {
  "kernelspec": {
   "display_name": "Python 3",
   "language": "python",
   "name": "python3"
  },
  "language_info": {
   "codemirror_mode": {
    "name": "ipython",
    "version": 3
   },
   "file_extension": ".py",
   "mimetype": "text/x-python",
   "name": "python",
   "nbconvert_exporter": "python",
   "pygments_lexer": "ipython3",
   "version": "3.11.0"
  }
 },
 "nbformat": 4,
 "nbformat_minor": 2
}
